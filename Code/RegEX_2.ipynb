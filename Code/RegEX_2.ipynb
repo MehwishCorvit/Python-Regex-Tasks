{
 "cells": [
  {
   "cell_type": "markdown",
   "id": "d25e4162",
   "metadata": {},
   "source": [
    "# **Part 2 – Intermediate (Groups, Quantifiers, Special Sequences) – 30 Tasks**"
   ]
  },
  {
   "cell_type": "code",
   "execution_count": null,
   "id": "9b5fd2fc",
   "metadata": {},
   "outputs": [],
   "source": [
    "."
   ]
  },
  {
   "cell_type": "markdown",
   "id": "57c7313d",
   "metadata": {},
   "source": [
    "# Task 31: Extract the domain name from an email address"
   ]
  },
  {
   "cell_type": "code",
   "execution_count": 5,
   "id": "1f8900e1",
   "metadata": {},
   "outputs": [
    {
     "name": "stdout",
     "output_type": "stream",
     "text": [
      "Domain found: example\n"
     ]
    }
   ],
   "source": [
    "import re\n",
    "\n",
    "email = \"user@example.com\"\n",
    "domain = re.search(r\"@(\\w+)\\.\", email)\n",
    "\n",
    "if domain:\n",
    "    print(f\"Domain found: {domain.group(1)}\")"
   ]
  },
  {
   "cell_type": "markdown",
   "id": "89c8e9e6",
   "metadata": {},
   "source": [
    "# Task 32: Replace all spaces with underscores"
   ]
  },
  {
   "cell_type": "code",
   "execution_count": 6,
   "id": "b7142224",
   "metadata": {},
   "outputs": [
    {
     "name": "stdout",
     "output_type": "stream",
     "text": [
      "Original text: Hello World\n",
      "New text: Hello_World\n"
     ]
    }
   ],
   "source": [
    "import re\n",
    "\n",
    "text = \"Hello World\"\n",
    "new_text = re.sub(r\"\\s\", \"_\", text)\n",
    "\n",
    "print(f\"Original text: {text}\")\n",
    "print(f\"New text: {new_text}\")"
   ]
  },
  {
   "cell_type": "markdown",
   "id": "e74b97f2",
   "metadata": {},
   "source": [
    "# Task 33: Replace multiple spaces with a single space"
   ]
  },
  {
   "cell_type": "code",
   "execution_count": 7,
   "id": "ffc13bb2",
   "metadata": {},
   "outputs": [
    {
     "name": "stdout",
     "output_type": "stream",
     "text": [
      "Original text: Hello   World    from   Python\n",
      "New text: Hello World from Python\n"
     ]
    }
   ],
   "source": [
    "import re\n",
    "\n",
    "text = \"Hello   World    from   Python\"\n",
    "new_text = re.sub(r\"\\s+\", \" \", text)\n",
    "\n",
    "print(f\"Original text: {text}\")\n",
    "print(f\"New text: {new_text}\")"
   ]
  },
  {
   "cell_type": "markdown",
   "id": "c4a6f169",
   "metadata": {},
   "source": [
    "# Task 34: Remove all numbers from a string."
   ]
  },
  {
   "cell_type": "code",
   "execution_count": 4,
   "id": "98dc2be7",
   "metadata": {},
   "outputs": [
    {
     "name": "stdout",
     "output_type": "stream",
     "text": [
      "Original text: I have 10 apples and 5 oranges.\n",
      "New text: I have  apples and  oranges.\n"
     ]
    }
   ],
   "source": [
    "import re\n",
    "\n",
    "text = \"I have 10 apples and 5 oranges.\"\n",
    "new_text = re.sub(r\"\\d\", \"\", text)\n",
    "\n",
    "print(f\"Original text: {text}\")\n",
    "print(f\"New text: {new_text}\")"
   ]
  },
  {
   "cell_type": "markdown",
   "id": "828b8a0a",
   "metadata": {},
   "source": [
    "# Task 35: Remove all non-alphanumeric characters."
   ]
  },
  {
   "cell_type": "code",
   "execution_count": 3,
   "id": "38d30d94",
   "metadata": {},
   "outputs": [
    {
     "name": "stdout",
     "output_type": "stream",
     "text": [
      "Original text: Hello, World! I am 123.\n",
      "New text: HelloWorldIam123\n"
     ]
    }
   ],
   "source": [
    "import re\n",
    "\n",
    "text = \"Hello, World! I am 123.\"\n",
    "new_text = re.sub(r\"\\W\", \"\", text)\n",
    "\n",
    "print(f\"Original text: {text}\")\n",
    "print(f\"New text: {new_text}\")"
   ]
  },
  {
   "cell_type": "markdown",
   "id": "a013d8a7",
   "metadata": {},
   "source": [
    "# Task 36: Validate a simple phone number format (e.g., XXX-XXX-XXXX)"
   ]
  },
  {
   "cell_type": "code",
   "execution_count": 2,
   "id": "16e0a2b6",
   "metadata": {},
   "outputs": [
    {
     "name": "stdout",
     "output_type": "stream",
     "text": [
      "'123-456-7890' is a valid phone number: True\n",
      "'123-4567890' is a valid phone number: False\n"
     ]
    }
   ],
   "source": [
    "import re\n",
    "\n",
    "text1 = \"123-456-7890\"\n",
    "text2 = \"123-4567890\"\n",
    "\n",
    "pattern = r\"^\\d{3}-\\d{3}-\\d{4}$\"\n",
    "\n",
    "print(f\"'{text1}' is a valid phone number: {bool(re.fullmatch(pattern, text1))}\")\n",
    "print(f\"'{text2}' is a valid phone number: {bool(re.fullmatch(pattern, text2))}\")"
   ]
  },
  {
   "cell_type": "markdown",
   "id": "06223a73",
   "metadata": {},
   "source": [
    "# Task 37: Find a word that is repeated consecutively"
   ]
  },
  {
   "cell_type": "code",
   "execution_count": null,
   "id": "a1276f7d",
   "metadata": {},
   "outputs": [
    {
     "name": "stdout",
     "output_type": "stream",
     "text": [
      "Repeated word found: the\n"
     ]
    }
   ],
   "source": [
    "import re\n",
    "\n",
    "text = \"The cat sat on the the mat.\"\n",
    "repeated_word = re.search(r\"\\b(\\w+)\\s+\\1\\b\", text)\n",
    "\n",
    "if repeated_word:\n",
    "    print(f\"Repeated word found: {repeated_word.group(1)}\")"
   ]
  },
  {
   "cell_type": "markdown",
   "id": "47c82c11",
   "metadata": {},
   "source": [
    "# Task 38: Find all duplicate letters in a word."
   ]
  },
  {
   "cell_type": "code",
   "execution_count": 8,
   "id": "210916ec",
   "metadata": {},
   "outputs": [
    {
     "name": "stdout",
     "output_type": "stream",
     "text": [
      "Duplicate letters found: ['o', 'e', 'k']\n"
     ]
    }
   ],
   "source": [
    "import re\n",
    "\n",
    "text = \"bookkeeper\"\n",
    "duplicate_letters = re.findall(r\"(\\w)\\1\", text)\n",
    "\n",
    "print(f\"Duplicate letters found: {list(set(duplicate_letters))}\")"
   ]
  },
  {
   "cell_type": "markdown",
   "id": "45c4d196",
   "metadata": {},
   "source": [
    "# Task 39: Extract currency amounts (e.g., $10.50, £20)"
   ]
  },
  {
   "cell_type": "code",
   "execution_count": 9,
   "id": "95f617c6",
   "metadata": {},
   "outputs": [
    {
     "name": "stdout",
     "output_type": "stream",
     "text": [
      "Currency amounts found: ['$10.50', '£20.']\n"
     ]
    }
   ],
   "source": [
    "import re\n",
    "\n",
    "text = \"The cost is $10.50, but it was on sale for £20.\"\n",
    "amounts = re.findall(r\"[£$]\\d+\\.?\\d*\", text)\n",
    "\n",
    "print(f\"Currency amounts found: {amounts}\")"
   ]
  },
  {
   "cell_type": "markdown",
   "id": "f51d6aab",
   "metadata": {},
   "source": [
    "# Task 40: Extract all HTML tags from a string."
   ]
  },
  {
   "cell_type": "code",
   "execution_count": 10,
   "id": "6e3b95d7",
   "metadata": {},
   "outputs": [
    {
     "name": "stdout",
     "output_type": "stream",
     "text": [
      "HTML tags found: ['<b>', '</b>']\n"
     ]
    }
   ],
   "source": [
    "import re\n",
    "\n",
    "text = \"This is a <b>bold</b> text.\"\n",
    "tags = re.findall(r\"<[^>]+>\", text)\n",
    "\n",
    "print(f\"HTML tags found: {tags}\")"
   ]
  },
  {
   "cell_type": "markdown",
   "id": "3e49325d",
   "metadata": {},
   "source": [
    "# Task 41: Validate a time in HH:MM format."
   ]
  },
  {
   "cell_type": "code",
   "execution_count": 1,
   "id": "b1083273",
   "metadata": {},
   "outputs": [
    {
     "name": "stdout",
     "output_type": "stream",
     "text": [
      "Time found in 'The meeting is at 10:30.': True\n",
      "Time found in 'The meeting is at 25:00.': False\n"
     ]
    }
   ],
   "source": [
    "import re\n",
    "\n",
    "text1 = \"The meeting is at 10:30.\"\n",
    "text2 = \"The meeting is at 25:00.\"\n",
    "\n",
    "# Pattern for HH:MM format (24-hour)\n",
    "pattern = r\"\\b(0[0-9]|1[0-9]|2[0-3]):([0-5][0-9])\\b\"\n",
    "\n",
    "print(f\"Time found in '{text1}': {bool(re.search(pattern, text1))}\")\n",
    "print(f\"Time found in '{text2}': {bool(re.search(pattern, text2))}\")"
   ]
  },
  {
   "cell_type": "markdown",
   "id": "cb187236",
   "metadata": {},
   "source": [
    "# Task 42: Validate a date in DD-MM-YYYY format."
   ]
  },
  {
   "cell_type": "code",
   "execution_count": 2,
   "id": "7d6f076e",
   "metadata": {},
   "outputs": [
    {
     "name": "stdout",
     "output_type": "stream",
     "text": [
      "Date found in 'Today's date is 25-12-2023.': True\n",
      "Date found in 'Invalid date: 35-13-2023.': True\n"
     ]
    }
   ],
   "source": [
    "import re\n",
    "\n",
    "text1 = \"Today's date is 25-12-2023.\"\n",
    "text2 = \"Invalid date: 35-13-2023.\"\n",
    "\n",
    "pattern = r\"\\b\\d{2}-\\d{2}-\\d{4}\\b\"\n",
    "\n",
    "print(f\"Date found in '{text1}': {bool(re.search(pattern, text1))}\")\n",
    "print(f\"Date found in '{text2}': {bool(re.search(pattern, text2))}\")"
   ]
  },
  {
   "cell_type": "markdown",
   "id": "339993b9",
   "metadata": {},
   "source": [
    "# Task 43: Extract all words containing \"ing\""
   ]
  },
  {
   "cell_type": "code",
   "execution_count": 3,
   "id": "187c14f3",
   "metadata": {},
   "outputs": [
    {
     "name": "stdout",
     "output_type": "stream",
     "text": [
      "Words containing 'ing': ['Singing', 'relaxing', 'learning']\n"
     ]
    }
   ],
   "source": [
    "import re\n",
    "\n",
    "text = \"Singing is a relaxing activity. He is learning to drive.\"\n",
    "ing_words = re.findall(r\"\\b\\w*ing\\w*\\b\", text)\n",
    "\n",
    "print(f\"Words containing 'ing': {ing_words}\")"
   ]
  },
  {
   "cell_type": "markdown",
   "id": "7fe34963",
   "metadata": {},
   "source": [
    "# Task 44: Find all words that do not contain the letter e"
   ]
  },
  {
   "cell_type": "code",
   "execution_count": 4,
   "id": "f437bc9c",
   "metadata": {},
   "outputs": [
    {
     "name": "stdout",
     "output_type": "stream",
     "text": [
      "Words without the letter 'e': ['quick', 'brown', 'fox', 'jumps', 'lazy', 'dog']\n"
     ]
    }
   ],
   "source": [
    "import re\n",
    "\n",
    "text = \"The quick brown fox jumps over the lazy dog.\"\n",
    "no_e_words = re.findall(r\"\\b[^eE\\s]+\\b\", text)\n",
    "\n",
    "print(f\"Words without the letter 'e': {no_e_words}\")"
   ]
  },
  {
   "cell_type": "markdown",
   "id": "649181b2",
   "metadata": {},
   "source": [
    "# Task 45: Extract all Twitter usernames (e.g., @username)"
   ]
  },
  {
   "cell_type": "code",
   "execution_count": 5,
   "id": "ca670ffb",
   "metadata": {},
   "outputs": [
    {
     "name": "stdout",
     "output_type": "stream",
     "text": [
      "Twitter usernames found: ['python_dev', 'coding_guru']\n"
     ]
    }
   ],
   "source": [
    "import re\n",
    "\n",
    "text = \"Follow me on Twitter at @python_dev and @coding_guru.\"\n",
    "usernames = re.findall(r\"@(\\w+)\", text)\n",
    "\n",
    "print(f\"Twitter usernames found: {usernames}\")"
   ]
  },
  {
   "cell_type": "markdown",
   "id": "c51eaf47",
   "metadata": {},
   "source": [
    "# Task 46: Find all words with at least 3 characters"
   ]
  },
  {
   "cell_type": "code",
   "execution_count": 6,
   "id": "bbf47b47",
   "metadata": {},
   "outputs": [
    {
     "name": "stdout",
     "output_type": "stream",
     "text": [
      "Words with at least 3 characters: ['dev', 'and', 'love', 'coding']\n"
     ]
    }
   ],
   "source": [
    "import re\n",
    "\n",
    "text = \"I am a dev and I love coding.\"\n",
    "long_words = re.findall(r\"\\b\\w{3,}\\b\", text)\n",
    "\n",
    "print(f\"Words with at least 3 characters: {long_words}\")"
   ]
  },
  {
   "cell_type": "markdown",
   "id": "1478891e",
   "metadata": {},
   "source": [
    "# Task 47: Check if a string is a valid email address (simple pattern)"
   ]
  },
  {
   "cell_type": "code",
   "execution_count": 7,
   "id": "52402b1e",
   "metadata": {},
   "outputs": [
    {
     "name": "stdout",
     "output_type": "stream",
     "text": [
      "'test@example.com' is a valid email: True\n",
      "'test@.com' is a valid email: False\n"
     ]
    }
   ],
   "source": [
    "import re\n",
    "\n",
    "email1 = \"test@example.com\"\n",
    "email2 = \"test@.com\"\n",
    "\n",
    "pattern = r\"^\\w+@\\w+\\.\\w+$\"\n",
    "\n",
    "print(f\"'{email1}' is a valid email: {bool(re.fullmatch(pattern, email1))}\")\n",
    "print(f\"'{email2}' is a valid email: {bool(re.fullmatch(pattern, email2))}\")"
   ]
  },
  {
   "cell_type": "markdown",
   "id": "f0cb1bbe",
   "metadata": {},
   "source": [
    "# Task 48: Find all two-letter words"
   ]
  },
  {
   "cell_type": "code",
   "execution_count": 8,
   "id": "de10a4fd",
   "metadata": {},
   "outputs": [
    {
     "name": "stdout",
     "output_type": "stream",
     "text": [
      "Two-letter words found: ['on']\n"
     ]
    }
   ],
   "source": [
    "import re\n",
    "\n",
    "text = \"The cat and the dog are on the mat.\"\n",
    "two_letter_words = re.findall(r\"\\b\\w{2}\\b\", text)\n",
    "\n",
    "print(f\"Two-letter words found: {two_letter_words}\")"
   ]
  },
  {
   "cell_type": "markdown",
   "id": "0ada2ca3",
   "metadata": {},
   "source": [
    "# Task 49: Extract all YouTube video IDs from a URL"
   ]
  },
  {
   "cell_type": "code",
   "execution_count": 9,
   "id": "30a4199a",
   "metadata": {},
   "outputs": [
    {
     "name": "stdout",
     "output_type": "stream",
     "text": [
      "YouTube video ID: dQw4w9WgXcQ\n"
     ]
    }
   ],
   "source": [
    "import re\n",
    "\n",
    "text = \"Check out this video: https://www.youtube.com/watch?v=dQw4w9WgXcQ\"\n",
    "video_id = re.search(r\"v=([^&]+)\", text)\n",
    "\n",
    "if video_id:\n",
    "    print(f\"YouTube video ID: {video_id.group(1)}\")"
   ]
  },
  {
   "cell_type": "markdown",
   "id": "e5a77f4e",
   "metadata": {},
   "source": [
    "# Task 50: Find all words enclosed in single quotes"
   ]
  },
  {
   "cell_type": "code",
   "execution_count": 10,
   "id": "859646c0",
   "metadata": {},
   "outputs": [
    {
     "name": "stdout",
     "output_type": "stream",
     "text": [
      "Words in single quotes: ['hello', 'goodbye']\n"
     ]
    }
   ],
   "source": [
    "import re\n",
    "\n",
    "text = \"He said 'hello' and she said 'goodbye'.\"\n",
    "single_quoted_words = re.findall(r\"'([^']+)'\", text)\n",
    "\n",
    "print(f\"Words in single quotes: {single_quoted_words}\")"
   ]
  },
  {
   "cell_type": "markdown",
   "id": "15a9831f",
   "metadata": {},
   "source": [
    "# Task 51: Validate a strong password (uppercase, lowercase, digit, special char)"
   ]
  },
  {
   "cell_type": "code",
   "execution_count": 11,
   "id": "01ad1f23",
   "metadata": {},
   "outputs": [
    {
     "name": "stdout",
     "output_type": "stream",
     "text": [
      "'Pass123!' is a strong password: True\n",
      "'password' is a strong password: False\n"
     ]
    }
   ],
   "source": [
    "import re\n",
    "\n",
    "text1 = \"Pass123!\"\n",
    "text2 = \"password\"\n",
    "\n",
    "# At least 8 characters, one uppercase, one lowercase, one digit, one special char\n",
    "pattern = r\"^(?=.*[a-z])(?=.*[A-Z])(?=.*\\d)(?=.*[^a-zA-Z\\d\\s]).{8,}$\"\n",
    "\n",
    "print(f\"'{text1}' is a strong password: {bool(re.search(pattern, text1))}\")\n",
    "print(f\"'{text2}' is a strong password: {bool(re.search(pattern, text2))}\")"
   ]
  },
  {
   "cell_type": "markdown",
   "id": "cc637b05",
   "metadata": {},
   "source": [
    "# Task 52: Match time in HH:MM format."
   ]
  },
  {
   "cell_type": "code",
   "execution_count": 12,
   "id": "4856bde4",
   "metadata": {},
   "outputs": [
    {
     "name": "stdout",
     "output_type": "stream",
     "text": [
      "Time found in 'The meeting is at 10:30.': True\n",
      "Time found in 'The meeting is at 25:00.': False\n"
     ]
    }
   ],
   "source": [
    "import re\n",
    "\n",
    "text1 = \"The meeting is at 10:30.\"\n",
    "text2 = \"The meeting is at 25:00.\"\n",
    "\n",
    "# Pattern for HH:MM format (24-hour)\n",
    "pattern = r\"\\b(0[0-9]|1[0-9]|2[0-3]):([0-5][0-9])\\b\"\n",
    "\n",
    "print(f\"Time found in '{text1}': {bool(re.search(pattern, text1))}\")\n",
    "print(f\"Time found in '{text2}': {bool(re.search(pattern, text2))}\")"
   ]
  },
  {
   "cell_type": "markdown",
   "id": "4432d5f3",
   "metadata": {},
   "source": [
    "# Task 53: Match date in DD-MM-YYYY format"
   ]
  },
  {
   "cell_type": "code",
   "execution_count": 13,
   "id": "904add0f",
   "metadata": {},
   "outputs": [
    {
     "name": "stdout",
     "output_type": "stream",
     "text": [
      "Date found in 'Today's date is 25-12-2023.': True\n",
      "Date found in 'Invalid date: 35-13-2023.': True\n"
     ]
    }
   ],
   "source": [
    "import re\n",
    "\n",
    "text1 = \"Today's date is 25-12-2023.\"\n",
    "text2 = \"Invalid date: 35-13-2023.\"\n",
    "\n",
    "pattern = r\"\\b\\d{2}-\\d{2}-\\d{4}\\b\"\n",
    "\n",
    "print(f\"Date found in '{text1}': {bool(re.search(pattern, text1))}\")\n",
    "print(f\"Date found in '{text2}': {bool(re.search(pattern, text2))}\")"
   ]
  },
  {
   "cell_type": "markdown",
   "id": "89dea273",
   "metadata": {},
   "source": [
    "# Task 54: Extract all three-letter words"
   ]
  },
  {
   "cell_type": "code",
   "execution_count": 14,
   "id": "18c3780d",
   "metadata": {},
   "outputs": [
    {
     "name": "stdout",
     "output_type": "stream",
     "text": [
      "Three-letter words found: ['The', 'cat', 'and', 'the', 'dog', 'are', 'the', 'mat']\n"
     ]
    }
   ],
   "source": [
    "import re\n",
    "\n",
    "text = \"The cat and the dog are on the mat.\"\n",
    "three_letter_words = re.findall(r\"\\b\\w{3}\\b\", text)\n",
    "\n",
    "print(f\"Three-letter words found: {three_letter_words}\")"
   ]
  },
  {
   "cell_type": "markdown",
   "id": "865a576b",
   "metadata": {},
   "source": [
    "# Task 55: Match a sequence of vowels"
   ]
  },
  {
   "cell_type": "code",
   "execution_count": 15,
   "id": "29e65921",
   "metadata": {},
   "outputs": [
    {
     "name": "stdout",
     "output_type": "stream",
     "text": [
      "Vowel sequences found: ['eau']\n"
     ]
    }
   ],
   "source": [
    "import re\n",
    "\n",
    "text = \"A beautiful day in the city of joy.\"\n",
    "vowel_sequences = re.findall(r\"[aeiouAEIOU]{2,}\", text)\n",
    "\n",
    "print(f\"Vowel sequences found: {vowel_sequences}\")"
   ]
  },
  {
   "cell_type": "markdown",
   "id": "eabf3714",
   "metadata": {},
   "source": [
    "# Task 56: Match a word containing ing."
   ]
  },
  {
   "cell_type": "code",
   "execution_count": 1,
   "id": "e40eb29b",
   "metadata": {},
   "outputs": [
    {
     "name": "stdout",
     "output_type": "stream",
     "text": [
      "Words containing 'ing': ['Singing', 'relaxing', 'learning']\n"
     ]
    }
   ],
   "source": [
    "import re\n",
    "\n",
    "text = \"Singing is a relaxing activity. He is learning to drive.\"\n",
    "ing_words = re.findall(r\"\\b\\w*ing\\w*\\b\", text)\n",
    "\n",
    "print(f\"Words containing 'ing': {ing_words}\")"
   ]
  },
  {
   "cell_type": "markdown",
   "id": "3bc09124",
   "metadata": {},
   "source": [
    "# Task 57: Extract Twitter usernames starting with @."
   ]
  },
  {
   "cell_type": "code",
   "execution_count": 2,
   "id": "1cf052d9",
   "metadata": {},
   "outputs": [
    {
     "name": "stdout",
     "output_type": "stream",
     "text": [
      "Twitter usernames found: ['python_dev', 'coding_guru']\n"
     ]
    }
   ],
   "source": [
    "import re\n",
    "\n",
    "text = \"Follow me on Twitter at @python_dev and @coding_guru.\"\n",
    "usernames = re.findall(r\"@(\\w+)\", text)\n",
    "\n",
    "print(f\"Twitter usernames found: {usernames}\")"
   ]
  },
  {
   "cell_type": "markdown",
   "id": "7546fc8e",
   "metadata": {},
   "source": [
    "# Task 58: Extract YouTube video IDs from URLs"
   ]
  },
  {
   "cell_type": "code",
   "execution_count": 3,
   "id": "77d9e3f0",
   "metadata": {},
   "outputs": [
    {
     "name": "stdout",
     "output_type": "stream",
     "text": [
      "YouTube video ID: dQw4w9WgXcQ\n"
     ]
    }
   ],
   "source": [
    "import re\n",
    "\n",
    "text = \"Check out this video: https://www.youtube.com/watch?v=dQw4w9WgXcQ\"\n",
    "video_id = re.search(r\"v=([^&]+)\", text)\n",
    "\n",
    "if video_id:\n",
    "    print(f\"YouTube video ID: {video_id.group(1)}\")"
   ]
  },
  {
   "cell_type": "markdown",
   "id": "b9f4e53b",
   "metadata": {},
   "source": [
    "# Task 59: Replace all digits with#"
   ]
  },
  {
   "cell_type": "code",
   "execution_count": 4,
   "id": "0fd071cb",
   "metadata": {},
   "outputs": [
    {
     "name": "stdout",
     "output_type": "stream",
     "text": [
      "Original text: My phone number is 03001234567.\n",
      "New text: My phone number is ###########.\n"
     ]
    }
   ],
   "source": [
    "import re\n",
    "\n",
    "text = \"My phone number is 03001234567.\"\n",
    "new_text = re.sub(r\"\\d\", \"#\", text)\n",
    "\n",
    "print(f\"Original text: {text}\")\n",
    "print(f\"New text: {new_text}\")"
   ]
  },
  {
   "cell_type": "markdown",
   "id": "0889d0bf",
   "metadata": {},
   "source": [
    "# Task 60: Match hex color codes like #fff or #ff5733"
   ]
  },
  {
   "cell_type": "code",
   "execution_count": 5,
   "id": "f0c8b5d2",
   "metadata": {},
   "outputs": [
    {
     "name": "stdout",
     "output_type": "stream",
     "text": [
      "Hex color codes found: ['#FF5733', '#FFF']\n"
     ]
    }
   ],
   "source": [
    "import re\n",
    "\n",
    "text = \"Color codes are #FF5733 and #FFF.\"\n",
    "hex_codes = re.findall(r\"#[0-9a-fA-F]{3,6}\\b\", text)\n",
    "\n",
    "print(f\"Hex color codes found: {hex_codes}\")"
   ]
  }
 ],
 "metadata": {
  "kernelspec": {
   "display_name": "base",
   "language": "python",
   "name": "python3"
  },
  "language_info": {
   "codemirror_mode": {
    "name": "ipython",
    "version": 3
   },
   "file_extension": ".py",
   "mimetype": "text/x-python",
   "name": "python",
   "nbconvert_exporter": "python",
   "pygments_lexer": "ipython3",
   "version": "3.13.5"
  }
 },
 "nbformat": 4,
 "nbformat_minor": 5
}
