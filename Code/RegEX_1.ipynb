{
 "cells": [
  {
   "cell_type": "markdown",
   "id": "4290c2fd",
   "metadata": {},
   "source": [
    "## Installing labraries"
   ]
  },
  {
   "cell_type": "code",
   "execution_count": null,
   "id": "c218de45-917f-4986-a654-a58b0943aeaa",
   "metadata": {},
   "outputs": [],
   "source": [
    "pip install spacy"
   ]
  },
  {
   "cell_type": "code",
   "execution_count": null,
   "id": "fe0c58b7",
   "metadata": {},
   "outputs": [],
   "source": [
    "pip install nltk"
   ]
  },
  {
   "cell_type": "code",
   "execution_count": null,
   "id": "c7d7cac1",
   "metadata": {},
   "outputs": [],
   "source": [
    "pip install transformers"
   ]
  },
  {
   "cell_type": "code",
   "execution_count": null,
   "id": "f9954287",
   "metadata": {},
   "outputs": [],
   "source": [
    "pip install pysbd"
   ]
  },
  {
   "cell_type": "code",
   "execution_count": null,
   "id": "77deefe9",
   "metadata": {},
   "outputs": [],
   "source": [
    "pip install genism"
   ]
  },
  {
   "cell_type": "markdown",
   "id": "b214f210",
   "metadata": {},
   "source": [
    "# **Part 1 Beginner (Basic Matching & Searching) – 30 Tasks**"
   ]
  },
  {
   "cell_type": "markdown",
   "id": "4f89b389",
   "metadata": {},
   "source": [
    "## TASK 01 Match the word \"Python\" in a string."
   ]
  },
  {
   "cell_type": "code",
   "execution_count": null,
   "id": "8cfbdeec",
   "metadata": {},
   "outputs": [],
   "source": [
    "import re\n",
    "\n",
    "text = \"Hello, Python is a great language.\"\n",
    "match = re.search(r\"Python\", text)\n",
    "\n",
    "if match:\n",
    "    print(f\"Match found: {match.group(0)}\")\n",
    "else:\n",
    "    print(\"No match found.\")"
   ]
  },
  {
   "cell_type": "markdown",
   "id": "23721245",
   "metadata": {},
   "source": [
    "## Task 02"
   ]
  },
  {
   "cell_type": "code",
   "execution_count": 8,
   "id": "27107cc7",
   "metadata": {},
   "outputs": [
    {
     "name": "stdout",
     "output_type": "stream",
     "text": [
      "'HelloWorld' contains only letters: True\n",
      "'Hello World!' contains only letters: False\n"
     ]
    }
   ],
   "source": [
    "import re\n",
    "\n",
    "text1 = \"HelloWorld\"\n",
    "text2 = \"Hello World!\"\n",
    "\n",
    "# Pattern for one or more letters\n",
    "pattern = r\"^[a-zA-Z]+$\"\n",
    "\n",
    "match1 = re.fullmatch(pattern, text1)\n",
    "match2 = re.fullmatch(pattern, text2)\n",
    "\n",
    "print(f\"'{text1}' contains only letters: {bool(match1)}\")\n",
    "print(f\"'{text2}' contains only letters: {bool(match2)}\")"
   ]
  },
  {
   "cell_type": "markdown",
   "id": "d8b1bb02",
   "metadata": {},
   "source": [
    "# Task 03 Verify if a string contains only digits."
   ]
  },
  {
   "cell_type": "code",
   "execution_count": 9,
   "id": "84dd9513",
   "metadata": {},
   "outputs": [
    {
     "name": "stdout",
     "output_type": "stream",
     "text": [
      "'1234567890' contains only digits: True\n",
      "'123abc456' contains only digits: False\n"
     ]
    }
   ],
   "source": [
    "import re\n",
    "\n",
    "text1 = \"1234567890\"\n",
    "text2 = \"123abc456\"\n",
    "\n",
    "# Pattern for one or more digits\n",
    "pattern = r\"^\\d+$\"\n",
    "\n",
    "match1 = re.fullmatch(pattern, text1)\n",
    "match2 = re.fullmatch(pattern, text2)\n",
    "\n",
    "print(f\"'{text1}' contains only digits: {bool(match1)}\")\n",
    "print(f\"'{text2}' contains only digits: {bool(match2)}\")"
   ]
  },
  {
   "cell_type": "markdown",
   "id": "3012f53d",
   "metadata": {},
   "source": [
    "# Task 04 Find all occurrences of the digit 7 in a string."
   ]
  },
  {
   "cell_type": "code",
   "execution_count": 10,
   "id": "2d339449",
   "metadata": {},
   "outputs": [
    {
     "name": "stdout",
     "output_type": "stream",
     "text": [
      "Found 2 occurrences of the digit 7: ['7', '7']\n"
     ]
    }
   ],
   "source": [
    "import re\n",
    "\n",
    "text = \"There are 7 days in a week and 7 continents.\"\n",
    "occurrences = re.findall(r\"7\", text)\n",
    "\n",
    "print(f\"Found {len(occurrences)} occurrences of the digit 7: {occurrences}\")"
   ]
  },
  {
   "cell_type": "markdown",
   "id": "4889c4c9",
   "metadata": {},
   "source": [
    "# Task 05 Match all lowercase letters in \"Hello World\"."
   ]
  },
  {
   "cell_type": "code",
   "execution_count": 11,
   "id": "42990777",
   "metadata": {},
   "outputs": [
    {
     "name": "stdout",
     "output_type": "stream",
     "text": [
      "Lowercase letters found: ['e', 'l', 'l', 'o', 'o', 'r', 'l', 'd']\n"
     ]
    }
   ],
   "source": [
    "import re\n",
    "\n",
    "text = \"Hello World\"\n",
    "lowercase_letters = re.findall(r\"[a-z]\", text)\n",
    "\n",
    "print(f\"Lowercase letters found: {lowercase_letters}\")"
   ]
  },
  {
   "cell_type": "markdown",
   "id": "c04430ba",
   "metadata": {},
   "source": [
    "# Task 6: Match all uppercase letters in \"Hello World\"."
   ]
  },
  {
   "cell_type": "code",
   "execution_count": 12,
   "id": "844d474a",
   "metadata": {},
   "outputs": [
    {
     "name": "stdout",
     "output_type": "stream",
     "text": [
      "Uppercase letters found: ['H', 'W']\n"
     ]
    }
   ],
   "source": [
    "import re\n",
    "\n",
    "text = \"Hello World\"\n",
    "uppercase_letters = re.findall(r\"[A-Z]\", text)\n",
    "\n",
    "print(f\"Uppercase letters found: {uppercase_letters}\")"
   ]
  },
  {
   "cell_type": "markdown",
   "id": "1ef6d4fc",
   "metadata": {},
   "source": [
    "# Task 7: Extract all numbers from \"My phone number is 03001234567\"."
   ]
  },
  {
   "cell_type": "code",
   "execution_count": 13,
   "id": "3a0ff82d",
   "metadata": {},
   "outputs": [
    {
     "name": "stdout",
     "output_type": "stream",
     "text": [
      "Numbers found: ['03001234567']\n"
     ]
    }
   ],
   "source": [
    "import re\n",
    "\n",
    "text = \"My phone number is 03001234567\"\n",
    "numbers = re.findall(r\"\\d+\", text)\n",
    "\n",
    "print(f\"Numbers found: {numbers}\")"
   ]
  },
  {
   "cell_type": "markdown",
   "id": "e0b89875",
   "metadata": {},
   "source": [
    "# Task 8: Check if a string starts with \"Hello\"."
   ]
  },
  {
   "cell_type": "code",
   "execution_count": 14,
   "id": "9a7cd14a",
   "metadata": {},
   "outputs": [
    {
     "name": "stdout",
     "output_type": "stream",
     "text": [
      "'Hello World' starts with 'Hello': True\n",
      "'Goodbye World' starts with 'Hello': False\n"
     ]
    }
   ],
   "source": [
    "import re\n",
    "\n",
    "text1 = \"Hello World\"\n",
    "text2 = \"Goodbye World\"\n",
    "\n",
    "match1 = re.match(r\"Hello\", text1)\n",
    "match2 = re.match(r\"Hello\", text2)\n",
    "\n",
    "print(f\"'{text1}' starts with 'Hello': {bool(match1)}\")\n",
    "print(f\"'{text2}' starts with 'Hello': {bool(match2)}\")"
   ]
  },
  {
   "cell_type": "markdown",
   "id": "7ad6203d",
   "metadata": {},
   "source": [
    "# Task 9: Check if a string ends with \"World\"."
   ]
  },
  {
   "cell_type": "code",
   "execution_count": 15,
   "id": "48943ea4",
   "metadata": {},
   "outputs": [
    {
     "name": "stdout",
     "output_type": "stream",
     "text": [
      "'Hello World' ends with 'World': True\n",
      "'Hello World!' ends with 'World': False\n"
     ]
    }
   ],
   "source": [
    "import re\n",
    "\n",
    "text1 = \"Hello World\"\n",
    "text2 = \"Hello World!\"\n",
    "\n",
    "match1 = re.search(r\"World$\", text1)\n",
    "match2 = re.search(r\"World$\", text2)\n",
    "\n",
    "print(f\"'{text1}' ends with 'World': {bool(match1)}\")\n",
    "print(f\"'{text2}' ends with 'World': {bool(match2)}\")"
   ]
  },
  {
   "cell_type": "markdown",
   "id": "aba6330e",
   "metadata": {},
   "source": [
    "# Task 10: Find all vowels in \"Regular Expressions are fun!\"."
   ]
  },
  {
   "cell_type": "code",
   "execution_count": 16,
   "id": "288c9e86",
   "metadata": {},
   "outputs": [
    {
     "name": "stdout",
     "output_type": "stream",
     "text": [
      "Vowels found: ['e', 'u', 'a', 'E', 'e', 'i', 'o', 'a', 'e', 'u']\n"
     ]
    }
   ],
   "source": [
    "import re\n",
    "\n",
    "text = \"Regular Expressions are fun!\"\n",
    "vowels = re.findall(r\"[aeiouAEIOU]\", text)\n",
    "\n",
    "print(f\"Vowels found: {vowels}\")"
   ]
  },
  {
   "cell_type": "markdown",
   "id": "88559a6a",
   "metadata": {},
   "source": [
    "# Task 11: Find all consonants in a sentence."
   ]
  },
  {
   "cell_type": "code",
   "execution_count": 17,
   "id": "507f440c",
   "metadata": {},
   "outputs": [
    {
     "name": "stdout",
     "output_type": "stream",
     "text": [
      "Consonants found: ['R', 'g', 'l', 'r', 'x', 'p', 'r', 's', 's', 'n', 's', 'r', 'f', 'n']\n"
     ]
    }
   ],
   "source": [
    "import re\n",
    "\n",
    "text = \"Regular Expressions are fun!\"\n",
    "consonants = re.findall(r\"[b-df-hj-np-tv-zB-DF-HJ-NP-TV-Z]\", text)\n",
    "\n",
    "print(f\"Consonants found: {consonants}\")"
   ]
  },
  {
   "cell_type": "markdown",
   "id": "adc902c6",
   "metadata": {},
   "source": [
    "# Task 12: Match a word with exactly 5 letters."
   ]
  },
  {
   "cell_type": "code",
   "execution_count": 18,
   "id": "2c4510d2",
   "metadata": {},
   "outputs": [
    {
     "name": "stdout",
     "output_type": "stream",
     "text": [
      "5-letter words found: ['apple', 'grape', 'fruit']\n"
     ]
    }
   ],
   "source": [
    "import re\n",
    "\n",
    "text = \"apple banana grape fruit\"\n",
    "five_letter_words = re.findall(r\"\\b[a-zA-Z]{5}\\b\", text)\n",
    "\n",
    "print(f\"5-letter words found: {five_letter_words}\")"
   ]
  },
  {
   "cell_type": "markdown",
   "id": "816145ad",
   "metadata": {},
   "source": [
    "# Task 13: Match a string with at least one space."
   ]
  },
  {
   "cell_type": "code",
   "execution_count": 19,
   "id": "1c90a540",
   "metadata": {},
   "outputs": [
    {
     "name": "stdout",
     "output_type": "stream",
     "text": [
      "'Hello World' contains at least one space: True\n",
      "'HelloWorld' contains at least one space: False\n"
     ]
    }
   ],
   "source": [
    "import re\n",
    "\n",
    "text1 = \"Hello World\"\n",
    "text2 = \"HelloWorld\"\n",
    "\n",
    "match1 = re.search(r\" \", text1)\n",
    "match2 = re.search(r\" \", text2)\n",
    "\n",
    "print(f\"'{text1}' contains at least one space: {bool(match1)}\")\n",
    "print(f\"'{text2}' contains at least one space: {bool(match2)}\")"
   ]
  },
  {
   "cell_type": "markdown",
   "id": "9f1b751e",
   "metadata": {},
   "source": [
    "# Task 14: Extract words starting with \"P\". "
   ]
  },
  {
   "cell_type": "code",
   "execution_count": 20,
   "id": "c2ebcf8e",
   "metadata": {},
   "outputs": [
    {
     "name": "stdout",
     "output_type": "stream",
     "text": [
      "Words starting with 'P': ['Python']\n"
     ]
    }
   ],
   "source": [
    "import re\n",
    "\n",
    "text = \"Python is a popular programming language.\"\n",
    "words_starting_with_p = re.findall(r\"\\bP\\w+\", text)\n",
    "\n",
    "print(f\"Words starting with 'P': {words_starting_with_p}\")"
   ]
  },
  {
   "cell_type": "markdown",
   "id": "fb18e248",
   "metadata": {},
   "source": [
    "# Task 15: Check if a string contains \"cat\" or \"dog\"."
   ]
  },
  {
   "cell_type": "code",
   "execution_count": 21,
   "id": "1a7fbedb",
   "metadata": {},
   "outputs": [
    {
     "name": "stdout",
     "output_type": "stream",
     "text": [
      "'The cat sat on the mat.' contains 'cat' or 'dog': True\n",
      "'The dog ran after the ball.' contains 'cat' or 'dog': True\n",
      "'The bird is singing.' contains 'cat' or 'dog': False\n"
     ]
    }
   ],
   "source": [
    "import re\n",
    "\n",
    "text1 = \"The cat sat on the mat.\"\n",
    "text2 = \"The dog ran after the ball.\"\n",
    "text3 = \"The bird is singing.\"\n",
    "\n",
    "match1 = re.search(r\"cat|dog\", text1)\n",
    "match2 = re.search(r\"cat|dog\", text2)\n",
    "match3 = re.search(r\"cat|dog\", text3)\n",
    "\n",
    "print(f\"'{text1}' contains 'cat' or 'dog': {bool(match1)}\")\n",
    "print(f\"'{text2}' contains 'cat' or 'dog': {bool(match2)}\")\n",
    "print(f\"'{text3}' contains 'cat' or 'dog': {bool(match3)}\")"
   ]
  },
  {
   "cell_type": "markdown",
   "id": "7b195649",
   "metadata": {},
   "source": [
    "# Task 16: Extract all words from \"Python3 is fun\"."
   ]
  },
  {
   "cell_type": "code",
   "execution_count": 1,
   "id": "d28b7dd6",
   "metadata": {},
   "outputs": [
    {
     "name": "stdout",
     "output_type": "stream",
     "text": [
      "Words found: ['Python3', 'is', 'fun']\n"
     ]
    }
   ],
   "source": [
    "import re\n",
    "\n",
    "text = \"Python3 is fun\"\n",
    "words = re.findall(r\"\\w+\", text)\n",
    "\n",
    "print(f\"Words found: {words}\")"
   ]
  },
  {
   "cell_type": "markdown",
   "id": "8ce2a519",
   "metadata": {},
   "source": [
    "# Task 17: Find all two-digit numbers in \"I am 21 years old and my brother is 15\"."
   ]
  },
  {
   "cell_type": "code",
   "execution_count": 2,
   "id": "7e5f9a59",
   "metadata": {},
   "outputs": [
    {
     "name": "stdout",
     "output_type": "stream",
     "text": [
      "Two-digit numbers found: ['21', '15']\n"
     ]
    }
   ],
   "source": [
    "import re\n",
    "\n",
    "text = \"I am 21 years old and my brother is 15\"\n",
    "two_digit_numbers = re.findall(r\"\\b\\d{2}\\b\", text)\n",
    "\n",
    "print(f\"Two-digit numbers found: {two_digit_numbers}\")"
   ]
  },
  {
   "cell_type": "markdown",
   "id": "67ccfd4f",
   "metadata": {},
   "source": [
    "# Task 18: Match any character except vowels."
   ]
  },
  {
   "cell_type": "code",
   "execution_count": 3,
   "id": "0bcfc90c",
   "metadata": {},
   "outputs": [
    {
     "name": "stdout",
     "output_type": "stream",
     "text": [
      "Characters that are not vowels or spaces: ['R', 'g', 'l', 'r', 'x', 'p', 'r', 's', 's', 'n', 's', 'r', 'f', 'n', '!']\n"
     ]
    }
   ],
   "source": [
    "import re\n",
    "\n",
    "text = \"Regular Expressions are fun!\"\n",
    "non_vowels = re.findall(r\"[^aeiouAEIOU\\s]\", text)\n",
    "\n",
    "print(f\"Characters that are not vowels or spaces: {non_vowels}\")"
   ]
  },
  {
   "cell_type": "markdown",
   "id": "d44a398e",
   "metadata": {},
   "source": [
    "# Task 19: Find all punctuation marks in \"Hello! How are you?\"."
   ]
  },
  {
   "cell_type": "code",
   "execution_count": 1,
   "id": "bae5060e",
   "metadata": {},
   "outputs": [
    {
     "name": "stdout",
     "output_type": "stream",
     "text": [
      "Punctuation marks found: ['!', '?']\n"
     ]
    }
   ],
   "source": [
    "import re\n",
    "\n",
    "text = \"Hello! How are you?\"\n",
    "punctuation = re.findall(r\"[.,!?;:]\", text)\n",
    "\n",
    "print(f\"Punctuation marks found: {punctuation}\")"
   ]
  },
  {
   "cell_type": "markdown",
   "id": "b18ebe91",
   "metadata": {},
   "source": [
    "# Task 20: Extract text inside double quotes"
   ]
  },
  {
   "cell_type": "code",
   "execution_count": 2,
   "id": "d8c20144",
   "metadata": {},
   "outputs": [
    {
     "name": "stdout",
     "output_type": "stream",
     "text": [
      "Text inside double quotes: ['quoted string', 'example']\n"
     ]
    }
   ],
   "source": [
    "import re\n",
    "\n",
    "text = 'This is a \"quoted string\" and another \"example\".'\n",
    "quoted_text = re.findall(r'\"([^\"]*)\"', text)\n",
    "\n",
    "print(f\"Text inside double quotes: {quoted_text}\")"
   ]
  },
  {
   "cell_type": "markdown",
   "id": "acfad174",
   "metadata": {},
   "source": [
    "# Task 21: Match \"yes\" or \"no\" regardless of case."
   ]
  },
  {
   "cell_type": "code",
   "execution_count": 4,
   "id": "3975ec9d",
   "metadata": {},
   "outputs": [
    {
     "name": "stdout",
     "output_type": "stream",
     "text": [
      "'Yes, I will.' contains 'yes' or 'no': True\n",
      "'no, thanks.' contains 'yes' or 'no': True\n",
      "'Maybe?' contains 'yes' or 'no': False\n"
     ]
    }
   ],
   "source": [
    "import re\n",
    "\n",
    "text1 = \"Yes, I will.\"\n",
    "text2 = \"no, thanks.\"\n",
    "text3 = \"Maybe?\"\n",
    "\n",
    "# The `re.IGNORECASE` flag makes the pattern case-insensitive.\n",
    "match1 = re.search(r\"yes|no\", text1, re.IGNORECASE)\n",
    "match2 = re.search(r\"yes|no\", text2, re.IGNORECASE)\n",
    "match3 = re.search(r\"yes|no\", text3, re.IGNORECASE)\n",
    "\n",
    "print(f\"'{text1}' contains 'yes' or 'no': {bool(match1)}\")\n",
    "print(f\"'{text2}' contains 'yes' or 'no': {bool(match2)}\")\n",
    "print(f\"'{text3}' contains 'yes' or 'no': {bool(match3)}\")"
   ]
  },
  {
   "cell_type": "markdown",
   "id": "e34849e5",
   "metadata": {},
   "source": [
    "# Task 22: Check if a string contains only whitespace"
   ]
  },
  {
   "cell_type": "code",
   "execution_count": 5,
   "id": "ce3fb0a1",
   "metadata": {},
   "outputs": [
    {
     "name": "stdout",
     "output_type": "stream",
     "text": [
      "'   \t\n",
      "  ' contains only whitespace: True\n",
      "'  hello  ' contains only whitespace: False\n"
     ]
    }
   ],
   "source": [
    "import re\n",
    "\n",
    "text1 = \"   \\t\\n  \"\n",
    "text2 = \"  hello  \"\n",
    "\n",
    "# `re.fullmatch()` ensures the pattern matches the entire string.\n",
    "match1 = re.fullmatch(r\"\\s+\", text1)\n",
    "match2 = re.fullmatch(r\"\\s+\", text2)\n",
    "\n",
    "print(f\"'{text1}' contains only whitespace: {bool(match1)}\")\n",
    "print(f\"'{text2}' contains only whitespace: {bool(match2)}\")"
   ]
  },
  {
   "cell_type": "markdown",
   "id": "8cef60a7",
   "metadata": {},
   "source": [
    "# Task 23: Find a string containing \"abc\" exactly 3 times."
   ]
  },
  {
   "cell_type": "code",
   "execution_count": 6,
   "id": "649865a8",
   "metadata": {},
   "outputs": [
    {
     "name": "stdout",
     "output_type": "stream",
     "text": [
      "The string contains 'abc' exactly 3 times: True\n"
     ]
    }
   ],
   "source": [
    "import re\n",
    "\n",
    "text = \"abc is a bca abc xyz cba abc.\"\n",
    "occurrences = re.findall(r\"abc\", text)\n",
    "\n",
    "print(f\"The string contains 'abc' exactly 3 times: {len(occurrences) == 3}\")"
   ]
  },
  {
   "cell_type": "markdown",
   "id": "25881433",
   "metadata": {},
   "source": [
    "# Task 24: Find a string containing \"abc\" at least 3 times"
   ]
  },
  {
   "cell_type": "code",
   "execution_count": 7,
   "id": "31e497b5",
   "metadata": {},
   "outputs": [
    {
     "name": "stdout",
     "output_type": "stream",
     "text": [
      "The string contains 'abc' at least 3 times: True\n"
     ]
    }
   ],
   "source": [
    "import re\n",
    "\n",
    "text = \"abc is a bca abc xyz cba abc.\"\n",
    "occurrences = re.findall(r\"abc\", text)\n",
    "\n",
    "print(f\"The string contains 'abc' at least 3 times: {len(occurrences) >= 3}\")"
   ]
  },
  {
   "cell_type": "markdown",
   "id": "8dd49c8a",
   "metadata": {},
   "source": [
    "# Task 25: Extract all words that start and end with the same letter."
   ]
  },
  {
   "cell_type": "code",
   "execution_count": 8,
   "id": "e6e0043e",
   "metadata": {},
   "outputs": [
    {
     "name": "stdout",
     "output_type": "stream",
     "text": [
      "Words starting and ending with the same letter: ['l', 'm', 'c']\n"
     ]
    }
   ],
   "source": [
    "import re\n",
    "\n",
    "text = \"level, madam, civic, python, word\"\n",
    "# The `re.findall` function is used to find all non-overlapping matches\n",
    "# of the specified pattern in the `text` string.\n",
    "words = re.findall(r\"\\b([a-zA-Z])\\w*\\1\\b\", text)\n",
    "\n",
    "print(f\"Words starting and ending with the same letter: {words}\")"
   ]
  },
  {
   "cell_type": "markdown",
   "id": "6445b5fa",
   "metadata": {},
   "source": [
    "# Task 26: Extract all hashtags from a sentence."
   ]
  },
  {
   "cell_type": "code",
   "execution_count": 9,
   "id": "78dcc2e5",
   "metadata": {},
   "outputs": [
    {
     "name": "stdout",
     "output_type": "stream",
     "text": [
      "Hashtags found: ['Python', 'Regex', 'learning']\n"
     ]
    }
   ],
   "source": [
    "import re\n",
    "\n",
    "text = \"I love #Python and #Regex, it's a great #learning experience.\"\n",
    "hashtags = re.findall(r\"#(\\w+)\", text)\n",
    "\n",
    "print(f\"Hashtags found: {hashtags}\")"
   ]
  },
  {
   "cell_type": "markdown",
   "id": "6f9f34b9",
   "metadata": {},
   "source": [
    "# Task 27: Find all hexadecimal color codes (e.g., #FFFFFF)."
   ]
  },
  {
   "cell_type": "code",
   "execution_count": 10,
   "id": "e87cd7d7",
   "metadata": {},
   "outputs": [
    {
     "name": "stdout",
     "output_type": "stream",
     "text": [
      "Hex color codes found: ['#FF5733', '#FFF']\n"
     ]
    }
   ],
   "source": [
    "import re\n",
    "\n",
    "text = \"Color codes are #FF5733 and #FFF.\"\n",
    "hex_codes = re.findall(r\"#[0-9a-fA-F]{3,6}\\b\", text)\n",
    "\n",
    "print(f\"Hex color codes found: {hex_codes}\")"
   ]
  },
  {
   "cell_type": "markdown",
   "id": "79cdc258",
   "metadata": {},
   "source": [
    "# Task 28: Extract all file extensions."
   ]
  },
  {
   "cell_type": "code",
   "execution_count": 11,
   "id": "93290515",
   "metadata": {},
   "outputs": [
    {
     "name": "stdout",
     "output_type": "stream",
     "text": [
      "File extensions found: ['txt', 'jpg']\n"
     ]
    }
   ],
   "source": [
    "import re\n",
    "\n",
    "text = \"file.txt, image.jpg, another_file.py\"\n",
    "extensions = re.findall(r\"\\.(\\w{3,4})\", text)\n",
    "\n",
    "print(f\"File extensions found: {extensions}\")"
   ]
  },
  {
   "cell_type": "markdown",
   "id": "165c4215",
   "metadata": {},
   "source": [
    "# Task 29: Find all occurrences of a digit followed by a letter."
   ]
  },
  {
   "cell_type": "code",
   "execution_count": 13,
   "id": "a213f43b",
   "metadata": {},
   "outputs": [
    {
     "name": "stdout",
     "output_type": "stream",
     "text": [
      "Matches found: ['1a', '2b']\n"
     ]
    }
   ],
   "source": [
    "import re\n",
    "\n",
    "text = \"The price is 1a, and the code is 2b.\"\n",
    "matches = re.findall(r\"\\d[a-zA-Z]\", text)\n",
    "\n",
    "print(f\"Matches found: {matches}\")"
   ]
  },
  {
   "cell_type": "markdown",
   "id": "b5160861",
   "metadata": {},
   "source": [
    "# Task 30: Find all URLs in a string"
   ]
  },
  {
   "cell_type": "code",
   "execution_count": 12,
   "id": "e7fb4292",
   "metadata": {},
   "outputs": [
    {
     "name": "stdout",
     "output_type": "stream",
     "text": [
      "URLs found: ['https://www.example.com', 'http://blog.test.org']\n"
     ]
    }
   ],
   "source": [
    "import re\n",
    "\n",
    "text = \"Visit my website at https://www.example.com or check out http://blog.test.org.\"\n",
    "urls = re.findall(r\"https?://[a-zA-Z0-9.\\-]+\\.[a-zA-Z]{2,3}\", text)\n",
    "\n",
    "print(f\"URLs found: {urls}\")"
   ]
  },
  {
   "cell_type": "code",
   "execution_count": null,
   "id": "45d6cdac",
   "metadata": {},
   "outputs": [],
   "source": []
  }
 ],
 "metadata": {
  "kernelspec": {
   "display_name": "Python 3",
   "language": "python",
   "name": "python3"
  },
  "language_info": {
   "codemirror_mode": {
    "name": "ipython",
    "version": 3
   },
   "file_extension": ".py",
   "mimetype": "text/x-python",
   "name": "python",
   "nbconvert_exporter": "python",
   "pygments_lexer": "ipython3",
   "version": "3.13.5"
  }
 },
 "nbformat": 4,
 "nbformat_minor": 5
}
