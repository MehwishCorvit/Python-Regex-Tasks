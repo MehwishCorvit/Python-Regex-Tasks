{
 "cells": [
  {
   "cell_type": "markdown",
   "id": "084678a9",
   "metadata": {},
   "source": [
    "# **Part 3 – Advanced (Lookarounds, Backreferences, Performance) – 30 Tasks**"
   ]
  },
  {
   "cell_type": "markdown",
   "id": "4092ea5c",
   "metadata": {},
   "source": [
    "# Task 61: Match numbers only if they are followed by \"kg\""
   ]
  },
  {
   "cell_type": "code",
   "execution_count": 1,
   "id": "aed7577a",
   "metadata": {},
   "outputs": [
    {
     "name": "stdout",
     "output_type": "stream",
     "text": [
      "Numbers followed by 'kg': ['50']\n"
     ]
    }
   ],
   "source": [
    "import re\n",
    "\n",
    "text = \"The weight is 50kg and the height is 180cm.\"\n",
    "numbers = re.findall(r\"\\d+(?=kg)\", text)\n",
    "\n",
    "print(f\"Numbers followed by 'kg': {numbers}\")"
   ]
  },
  {
   "cell_type": "markdown",
   "id": "7fc3c2a8",
   "metadata": {},
   "source": [
    "# Task 62: Match numbers only if they are not followed by \"kg\""
   ]
  },
  {
   "cell_type": "code",
   "execution_count": 2,
   "id": "e903c5aa",
   "metadata": {},
   "outputs": [
    {
     "name": "stdout",
     "output_type": "stream",
     "text": [
      "Numbers not followed by 'kg': ['5', '180']\n"
     ]
    }
   ],
   "source": [
    "import re\n",
    "\n",
    "text = \"The weight is 50kg and the height is 180cm.\"\n",
    "numbers = re.findall(r\"\\d+(?!kg)\", text)\n",
    "\n",
    "print(f\"Numbers not followed by 'kg': {numbers}\")"
   ]
  },
  {
   "cell_type": "markdown",
   "id": "6a3c4acb",
   "metadata": {},
   "source": [
    "# Task 63: Extract words only if they are followed by a comma"
   ]
  },
  {
   "cell_type": "code",
   "execution_count": 3,
   "id": "97a6f333",
   "metadata": {},
   "outputs": [
    {
     "name": "stdout",
     "output_type": "stream",
     "text": [
      "Words followed by a comma: ['apple', 'banana', 'orange']\n"
     ]
    }
   ],
   "source": [
    "import re\n",
    "\n",
    "text = \"apple, banana, orange, grape\"\n",
    "words = re.findall(r\"\\b\\w+(?=,)\", text)\n",
    "\n",
    "print(f\"Words followed by a comma: {words}\")"
   ]
  },
  {
   "cell_type": "markdown",
   "id": "ccd55cc0",
   "metadata": {},
   "source": [
    "# Task 64: Extract words only if they are preceded by #"
   ]
  },
  {
   "cell_type": "code",
   "execution_count": 4,
   "id": "d15dd397",
   "metadata": {},
   "outputs": [
    {
     "name": "stdout",
     "output_type": "stream",
     "text": [
      "Words preceded by a hash: ['Python', 'Regex']\n"
     ]
    }
   ],
   "source": [
    "import re\n",
    "\n",
    "text = \"I love #Python and #Regex.\"\n",
    "words = re.findall(r\"(?<=#)\\w+\", text)\n",
    "\n",
    "print(f\"Words preceded by a hash: {words}\")"
   ]
  },
  {
   "cell_type": "markdown",
   "id": "efff8f27",
   "metadata": {},
   "source": [
    "# Task 65: Match \"Python\" only if it’s not followed by \"3\""
   ]
  },
  {
   "cell_type": "code",
   "execution_count": 5,
   "id": "4299ef94",
   "metadata": {},
   "outputs": [
    {
     "name": "stdout",
     "output_type": "stream",
     "text": [
      "Matched word: Python\n"
     ]
    }
   ],
   "source": [
    "import re\n",
    "\n",
    "text = \"I prefer Python over Python3.\"\n",
    "word = re.search(r\"Python(?!3)\", text)\n",
    "\n",
    "if word:\n",
    "    print(f\"Matched word: {word.group(0)}\")"
   ]
  },
  {
   "cell_type": "markdown",
   "id": "c240cccb",
   "metadata": {},
   "source": [
    "# Task 66: Find overlapping matches of \"aba\" in \"ababa\""
   ]
  },
  {
   "cell_type": "code",
   "execution_count": 6,
   "id": "102c9e66",
   "metadata": {},
   "outputs": [
    {
     "name": "stdout",
     "output_type": "stream",
     "text": [
      "Overlapping matches found: 2\n"
     ]
    }
   ],
   "source": [
    "import re\n",
    "\n",
    "text = \"ababa\"\n",
    "matches = re.findall(r\"(?=aba)\", text)\n",
    "\n",
    "print(f\"Overlapping matches found: {len(matches)}\")"
   ]
  },
  {
   "cell_type": "markdown",
   "id": "728c5709",
   "metadata": {},
   "source": [
    "# Task 67: Match numbers between 100 and 999"
   ]
  },
  {
   "cell_type": "code",
   "execution_count": 7,
   "id": "8c2dfe89",
   "metadata": {},
   "outputs": [
    {
     "name": "stdout",
     "output_type": "stream",
     "text": [
      "Numbers between 100 and 999: ['150', '999']\n"
     ]
    }
   ],
   "source": [
    "import re\n",
    "\n",
    "text = \"10, 50, 150, 999, 1000\"\n",
    "numbers = re.findall(r\"\\b\\d{3}\\b\", text)\n",
    "\n",
    "print(f\"Numbers between 100 and 999: {numbers}\")"
   ]
  },
  {
   "cell_type": "markdown",
   "id": "953fd7f6",
   "metadata": {},
   "source": [
    "# Task 68: Match floating-point numbers with optional sign (+/-)"
   ]
  },
  {
   "cell_type": "code",
   "execution_count": 8,
   "id": "7b670e69",
   "metadata": {},
   "outputs": [
    {
     "name": "stdout",
     "output_type": "stream",
     "text": [
      "Floating-point numbers found: ['+25.5', '-10']\n"
     ]
    }
   ],
   "source": [
    "import re\n",
    "\n",
    "text = \"The temperature is +25.5 and -10 degrees.\"\n",
    "numbers = re.findall(r\"[+-]?\\d+\\.?\\d*\", text)\n",
    "\n",
    "print(f\"Floating-point numbers found: {numbers}\")"
   ]
  },
  {
   "cell_type": "markdown",
   "id": "4e0191e3",
   "metadata": {},
   "source": [
    "# Task 69: Match strings without the letter \"e\""
   ]
  },
  {
   "cell_type": "code",
   "execution_count": 9,
   "id": "69cc01e4",
   "metadata": {},
   "outputs": [
    {
     "name": "stdout",
     "output_type": "stream",
     "text": [
      "Words without the letter 'e': ['quick', 'brown', 'fox', 'jumps', 'lazy', 'dog']\n"
     ]
    }
   ],
   "source": [
    "import re\n",
    "\n",
    "text = \"The quick brown fox jumps over the lazy dog.\"\n",
    "words = re.findall(r\"\\b[^eE\\s]+\\b\", text)\n",
    "\n",
    "print(f\"Words without the letter 'e': {words}\")"
   ]
  },
  {
   "cell_type": "markdown",
   "id": "8da2fe7f",
   "metadata": {},
   "source": [
    "# Task 70: Validate IPv6 addresses"
   ]
  },
  {
   "cell_type": "code",
   "execution_count": 10,
   "id": "e976ecb3",
   "metadata": {},
   "outputs": [
    {
     "name": "stdout",
     "output_type": "stream",
     "text": [
      "'2001:0db8:85a3:0000:0000:8a2e:0370:7334' is a valid IPv6: True\n",
      "'FE80:0000:0000:0000:0202:B3FF:FE1E:8329' is a valid IPv6: True\n",
      "'This is not an IP address.' is a valid IPv6: False\n"
     ]
    }
   ],
   "source": [
    "import re\n",
    "\n",
    "text1 = \"2001:0db8:85a3:0000:0000:8a2e:0370:7334\"\n",
    "text2 = \"FE80:0000:0000:0000:0202:B3FF:FE1E:8329\"\n",
    "text3 = \"This is not an IP address.\"\n",
    "\n",
    "pattern = r\"([0-9a-fA-F]{1,4}:){7}[0-9a-fA-F]{1,4}\"\n",
    "\n",
    "print(f\"'{text1}' is a valid IPv6: {bool(re.fullmatch(pattern, text1))}\")\n",
    "print(f\"'{text2}' is a valid IPv6: {bool(re.fullmatch(pattern, text2))}\")\n",
    "print(f\"'{text3}' is a valid IPv6: {bool(re.fullmatch(pattern, text3))}\")"
   ]
  },
  {
   "cell_type": "markdown",
   "id": "5d126b64",
   "metadata": {},
   "source": [
    "# Task 71: Match HTML opening tags without closing tags"
   ]
  },
  {
   "cell_type": "code",
   "execution_count": 11,
   "id": "7864d3fa",
   "metadata": {},
   "outputs": [
    {
     "name": "stdout",
     "output_type": "stream",
     "text": [
      "Opening tags without a closing tag: ['div', 'span', 'div']\n"
     ]
    }
   ],
   "source": [
    "import re\n",
    "\n",
    "text = \"<div><p>This is a paragraph.</p><span>This is a span.<div>\"\n",
    "# Matches any opening tag that is not followed by a closing tag with the same name.\n",
    "pattern = r\"<(\\w+)[^>]*>(?!.*<\\/\\1>)\"\n",
    "invalid_tags = re.findall(pattern, text)\n",
    "\n",
    "print(f\"Opening tags without a closing tag: {invalid_tags}\")"
   ]
  },
  {
   "cell_type": "markdown",
   "id": "1022db8a",
   "metadata": {},
   "source": [
    "# Task 72: Match a repeated word using a backreference"
   ]
  },
  {
   "cell_type": "code",
   "execution_count": 12,
   "id": "009097ad",
   "metadata": {},
   "outputs": [
    {
     "name": "stdout",
     "output_type": "stream",
     "text": [
      "Repeated words found: ['is', 'test']\n"
     ]
    }
   ],
   "source": [
    "import re\n",
    "\n",
    "text = \"This is is a test test.\"\n",
    "repeated_words = re.findall(r\"\\b(\\w+)\\s+\\1\\b\", text)\n",
    "\n",
    "print(f\"Repeated words found: {repeated_words}\")"
   ]
  },
  {
   "cell_type": "markdown",
   "id": "22aa5d21",
   "metadata": {},
   "source": [
    "# Task 73: Match palindromes of 3 letters"
   ]
  },
  {
   "cell_type": "code",
   "execution_count": 13,
   "id": "15f33536",
   "metadata": {},
   "outputs": [
    {
     "name": "stdout",
     "output_type": "stream",
     "text": [
      "Three-letter palindromes found: ['m', 'd', 'a']\n"
     ]
    }
   ],
   "source": [
    "import re\n",
    "\n",
    "text = \"madam, mom, dad, refer, level, aba, abc\"\n",
    "palindromes = re.findall(r\"\\b(\\w)\\w\\1\\b\", text)\n",
    "\n",
    "print(f\"Three-letter palindromes found: {palindromes}\")"
   ]
  },
  {
   "cell_type": "markdown",
   "id": "e3cccdc7",
   "metadata": {},
   "source": [
    "# Task 74: Extract all filenames without extensions"
   ]
  },
  {
   "cell_type": "code",
   "execution_count": 14,
   "id": "bc328a04",
   "metadata": {},
   "outputs": [
    {
     "name": "stdout",
     "output_type": "stream",
     "text": [
      "Filenames without extensions: ['file', 'file2', 'image']\n"
     ]
    }
   ],
   "source": [
    "import re\n",
    "\n",
    "text = \"file.txt file2.pdf image.jpeg\"\n",
    "filenames = re.findall(r\"(\\w+)(?=\\.\\w+)\", text)\n",
    "\n",
    "print(f\"Filenames without extensions: {filenames}\")"
   ]
  },
  {
   "cell_type": "markdown",
   "id": "4e6fc92a",
   "metadata": {},
   "source": [
    "# Task 75: Validate credit card numbers (simple pattern)"
   ]
  },
  {
   "cell_type": "code",
   "execution_count": 15,
   "id": "836b26fc",
   "metadata": {},
   "outputs": [
    {
     "name": "stdout",
     "output_type": "stream",
     "text": [
      "'1234-5678-9012-3456' is a valid credit card: True\n",
      "'12345-6789-0123-4567' is a valid credit card: False\n"
     ]
    }
   ],
   "source": [
    "import re\n",
    "\n",
    "text1 = \"1234-5678-9012-3456\"\n",
    "text2 = \"12345-6789-0123-4567\"\n",
    "\n",
    "pattern = r\"^\\d{4}-\\d{4}-\\d{4}-\\d{4}$\"\n",
    "\n",
    "print(f\"'{text1}' is a valid credit card: {bool(re.fullmatch(pattern, text1))}\")\n",
    "print(f\"'{text2}' is a valid credit card: {bool(re.fullmatch(pattern, text2))}\")"
   ]
  },
  {
   "cell_type": "markdown",
   "id": "25e6c1f5",
   "metadata": {},
   "source": [
    "# Task 76: Match only words with alternating vowels and consonants."
   ]
  },
  {
   "cell_type": "code",
   "execution_count": 16,
   "id": "3317fb82",
   "metadata": {},
   "outputs": [
    {
     "name": "stdout",
     "output_type": "stream",
     "text": [
      "Words with alternating vowels and consonants: ['am', 'de']\n"
     ]
    }
   ],
   "source": [
    "import re\n",
    "\n",
    "text = \"rhythm, team, code, regular\"\n",
    "pattern = r\"\\b((?:[aeiou][^aeiou])+|[^aeiou][aeiou])+\\b\"\n",
    "words = re.findall(pattern, text, re.IGNORECASE)\n",
    "\n",
    "print(f\"Words with alternating vowels and consonants: {words}\")"
   ]
  },
  {
   "cell_type": "markdown",
   "id": "e6455961",
   "metadata": {},
   "source": [
    "# Task 77: Validate a URL"
   ]
  },
  {
   "cell_type": "code",
   "execution_count": 17,
   "id": "00c945d9",
   "metadata": {},
   "outputs": [
    {
     "name": "stdout",
     "output_type": "stream",
     "text": [
      "'https://www.google.com' is a valid URL: True\n",
      "'ftp://example.co.uk/path' is a valid URL: True\n",
      "'This is not a URL.' is a valid URL: False\n"
     ]
    }
   ],
   "source": [
    "import re\n",
    "\n",
    "text1 = \"https://www.google.com\"\n",
    "text2 = \"ftp://example.co.uk/path\"\n",
    "text3 = \"This is not a URL.\"\n",
    "\n",
    "pattern = r\"^(https?|ftp):\\/\\/[^\\s\\/$.?#].[^\\s]*$\"\n",
    "\n",
    "print(f\"'{text1}' is a valid URL: {bool(re.fullmatch(pattern, text1))}\")\n",
    "print(f\"'{text2}' is a valid URL: {bool(re.fullmatch(pattern, text2))}\")\n",
    "print(f\"'{text3}' is a valid URL: {bool(re.fullmatch(pattern, text3))}\")"
   ]
  },
  {
   "cell_type": "markdown",
   "id": "6b70c5f1",
   "metadata": {},
   "source": [
    "# Task 78: Match all words longer than 10 characters"
   ]
  },
  {
   "cell_type": "code",
   "execution_count": 18,
   "id": "dfaee533",
   "metadata": {},
   "outputs": [
    {
     "name": "stdout",
     "output_type": "stream",
     "text": [
      "Words longer than 10 characters: ['anotherwordisprettybig']\n"
     ]
    }
   ],
   "source": [
    "import re\n",
    "\n",
    "text = \"This is a very long word, and anotherwordisprettybig.\"\n",
    "long_words = re.findall(r\"\\b\\w{11,}\\b\", text)\n",
    "\n",
    "print(f\"Words longer than 10 characters: {long_words}\")"
   ]
  },
  {
   "cell_type": "markdown",
   "id": "400259cd",
   "metadata": {},
   "source": [
    "# Task 79: Match words with at least 3 vowels"
   ]
  },
  {
   "cell_type": "code",
   "execution_count": 19,
   "id": "67a94b53",
   "metadata": {},
   "outputs": [
    {
     "name": "stdout",
     "output_type": "stream",
     "text": [
      "Words with at least 3 vowels: ['ul', 'on', 'ar', 'on']\n"
     ]
    }
   ],
   "source": [
    "import re\n",
    "\n",
    "text = \"beautiful, aeon, cat, regular, expression\"\n",
    "pattern = r\"\\b(?=\\w*([aeiouAEIOU]\\w*){3})\\w+\\b\"\n",
    "words_with_vowels = re.findall(pattern, text)\n",
    "\n",
    "print(f\"Words with at least 3 vowels: {words_with_vowels}\")"
   ]
  },
  {
   "cell_type": "markdown",
   "id": "a853e2ec",
   "metadata": {},
   "source": [
    "# Task 80: Match numbers divisible by 5 (ending with 0 or 5)"
   ]
  },
  {
   "cell_type": "code",
   "execution_count": 20,
   "id": "0a1becb5",
   "metadata": {},
   "outputs": [
    {
     "name": "stdout",
     "output_type": "stream",
     "text": [
      "Numbers divisible by 5: ['10', '25', '40', '55']\n"
     ]
    }
   ],
   "source": [
    "import re\n",
    "\n",
    "text = \"10, 25, 33, 40, 55, 101\"\n",
    "numbers = re.findall(r\"\\b\\d*[05]\\b\", text)\n",
    "\n",
    "print(f\"Numbers divisible by 5: {numbers}\")"
   ]
  },
  {
   "cell_type": "markdown",
   "id": "1ff99ea0",
   "metadata": {},
   "source": [
    "# Task 81: Match text between two specific words"
   ]
  },
  {
   "cell_type": "code",
   "execution_count": 21,
   "id": "85aca9c0",
   "metadata": {},
   "outputs": [
    {
     "name": "stdout",
     "output_type": "stream",
     "text": [
      "Text between 'start' and 'end': 'This is the text in between'\n"
     ]
    }
   ],
   "source": [
    "import re\n",
    "\n",
    "text = \"start This is the text in between end\"\n",
    "match = re.search(r\"(?<=start\\s).*(?=\\send)\", text)\n",
    "\n",
    "if match:\n",
    "    print(f\"Text between 'start' and 'end': '{match.group(0)}'\")"
   ]
  },
  {
   "cell_type": "markdown",
   "id": "e8942435",
   "metadata": {},
   "source": [
    "# Task 82: Find words containing double letters"
   ]
  },
  {
   "cell_type": "code",
   "execution_count": 22,
   "id": "4058f098",
   "metadata": {},
   "outputs": [
    {
     "name": "stdout",
     "output_type": "stream",
     "text": [
      "Words with double letters: ['l', 'o', 't']\n"
     ]
    }
   ],
   "source": [
    "import re\n",
    "\n",
    "text = \"Hello, I am looking for a word with double letters.\"\n",
    "words = re.findall(r\"\\b\\w*(\\w)\\1\\w*\\b\", text)\n",
    "\n",
    "print(f\"Words with double letters: {words}\")"
   ]
  },
  {
   "cell_type": "markdown",
   "id": "d2659f85",
   "metadata": {},
   "source": [
    "# Task 83: Match numbers with commas (e.g., 1,000, 20,345)"
   ]
  },
  {
   "cell_type": "code",
   "execution_count": 23,
   "id": "04a019b6",
   "metadata": {},
   "outputs": [
    {
     "name": "stdout",
     "output_type": "stream",
     "text": [
      "Numbers with commas: ['1,000', '20,345', '987,654']\n"
     ]
    }
   ],
   "source": [
    "import re\n",
    "\n",
    "text = \"Sales figures: 1,000, 20,345, 1234567, 987,654\"\n",
    "numbers = re.findall(r\"\\b\\d{1,3}(?:,\\d{3})*\\b\", text)\n",
    "\n",
    "print(f\"Numbers with commas: {numbers}\")"
   ]
  },
  {
   "cell_type": "markdown",
   "id": "d07af376",
   "metadata": {},
   "source": [
    "# Task 84: Match Roman numerals"
   ]
  },
  {
   "cell_type": "code",
   "execution_count": 24,
   "id": "8664d15f",
   "metadata": {},
   "outputs": [
    {
     "name": "stdout",
     "output_type": "stream",
     "text": [
      "Roman numerals found: [('', '', 'I'), ('', '', ''), ('', '', 'II'), ('', '', ''), ('', '', 'IV'), ('', '', ''), ('', '', 'VI'), ('', '', ''), ('', '', 'VIII'), ('', '', ''), ('', '', 'IX'), ('', '', ''), ('', 'X', ''), ('', '', ''), ('C', '', ''), ('', '', ''), ('D', '', ''), ('', '', ''), ('', '', ''), ('', '', '')]\n"
     ]
    }
   ],
   "source": [
    "import re\n",
    "\n",
    "text = \"I, II, IV, VI, VIII, IX, X, C, D, M\"\n",
    "pattern = r\"\\bM{0,4}(CM|CD|D?C{0,3})(XC|XL|L?X{0,3})(IX|IV|V?I{0,3})\\b\"\n",
    "roman_numerals = re.findall(pattern, text, re.IGNORECASE)\n",
    "\n",
    "print(f\"Roman numerals found: {roman_numerals}\")"
   ]
  },
  {
   "cell_type": "markdown",
   "id": "14382be2",
   "metadata": {},
   "source": [
    "# Task 86: Match a repeated sequence of characters like \"abcabc\""
   ]
  },
  {
   "cell_type": "code",
   "execution_count": 25,
   "id": "ee2af923",
   "metadata": {},
   "outputs": [
    {
     "name": "stdout",
     "output_type": "stream",
     "text": [
      "Repeated sequence found: abcabc\n"
     ]
    }
   ],
   "source": [
    "import re\n",
    "\n",
    "text = \"abcabc is a pattern, but abc is not.\"\n",
    "match = re.search(r\"(\\w{3})\\1\", text)\n",
    "\n",
    "if match:\n",
    "    print(f\"Repeated sequence found: {match.group(0)}\")"
   ]
  },
  {
   "cell_type": "markdown",
   "id": "20576477",
   "metadata": {},
   "source": [
    "# Task 87: Match binary numbers containing only 0 and 1"
   ]
  },
  {
   "cell_type": "code",
   "execution_count": 26,
   "id": "96617dc1",
   "metadata": {},
   "outputs": [
    {
     "name": "stdout",
     "output_type": "stream",
     "text": [
      "Binary numbers found: ['10101', '1100']\n"
     ]
    }
   ],
   "source": [
    "import re\n",
    "\n",
    "text = \"Binary numbers: 10101, 1100, 202\"\n",
    "binary_numbers = re.findall(r\"\\b[01]+\\b\", text)\n",
    "\n",
    "print(f\"Binary numbers found: {binary_numbers}\")"
   ]
  },
  {
   "cell_type": "markdown",
   "id": "b57c8fcc",
   "metadata": {},
   "source": [
    "# Task 88: Validate MAC addresses"
   ]
  },
  {
   "cell_type": "code",
   "execution_count": 27,
   "id": "2079d91a",
   "metadata": {},
   "outputs": [
    {
     "name": "stdout",
     "output_type": "stream",
     "text": [
      "'01-23-45-67-89-ab' is a valid MAC address: True\n",
      "'01:23:45:67:89:AB' is a valid MAC address: True\n",
      "'01:23:45:67:89:G' is a valid MAC address: False\n"
     ]
    }
   ],
   "source": [
    "import re\n",
    "\n",
    "text1 = \"01-23-45-67-89-ab\"\n",
    "text2 = \"01:23:45:67:89:AB\"\n",
    "text3 = \"01:23:45:67:89:G\"\n",
    "\n",
    "pattern = r\"^([0-9a-fA-F]{2}[-:]){5}[0-9a-fA-F]{2}$\"\n",
    "\n",
    "print(f\"'{text1}' is a valid MAC address: {bool(re.fullmatch(pattern, text1))}\")\n",
    "print(f\"'{text2}' is a valid MAC address: {bool(re.fullmatch(pattern, text2))}\")\n",
    "print(f\"'{text3}' is a valid MAC address: {bool(re.fullmatch(pattern, text3))}\")"
   ]
  },
  {
   "cell_type": "markdown",
   "id": "bcb43c3c",
   "metadata": {},
   "source": [
    "# Task 89: Extract the first and last name from \"John Doe\""
   ]
  },
  {
   "cell_type": "code",
   "execution_count": 28,
   "id": "3e68fff9",
   "metadata": {},
   "outputs": [
    {
     "name": "stdout",
     "output_type": "stream",
     "text": [
      "First Name: John\n",
      "Last Name: Doe\n"
     ]
    }
   ],
   "source": [
    "import re\n",
    "\n",
    "text = \"John Doe\"\n",
    "match = re.search(r\"^(\\w+)\\s(\\w+)$\", text)\n",
    "\n",
    "if match:\n",
    "    first_name = match.group(1)\n",
    "    last_name = match.group(2)\n",
    "    print(f\"First Name: {first_name}\")\n",
    "    print(f\"Last Name: {last_name}\")"
   ]
  },
  {
   "cell_type": "markdown",
   "id": "cc7a9ee6",
   "metadata": {},
   "source": [
    "# Task 90: Match all HTML comments."
   ]
  },
  {
   "cell_type": "code",
   "execution_count": 29,
   "id": "0c6a4342",
   "metadata": {},
   "outputs": [
    {
     "name": "stdout",
     "output_type": "stream",
     "text": [
      "HTML comments found: ['', '', '', '', '', '', '', '', '', '', '', '', '', '', '', '', '', '']\n"
     ]
    }
   ],
   "source": [
    "import re\n",
    "\n",
    "text = \"<p>Some text</p> \"\n",
    "comments = re.findall(r\"\", text, re.DOTALL)\n",
    "\n",
    "print(f\"HTML comments found: {comments}\")"
   ]
  },
  {
   "cell_type": "code",
   "execution_count": null,
   "id": "c6e689bf",
   "metadata": {},
   "outputs": [],
   "source": []
  }
 ],
 "metadata": {
  "kernelspec": {
   "display_name": "base",
   "language": "python",
   "name": "python3"
  },
  "language_info": {
   "codemirror_mode": {
    "name": "ipython",
    "version": 3
   },
   "file_extension": ".py",
   "mimetype": "text/x-python",
   "name": "python",
   "nbconvert_exporter": "python",
   "pygments_lexer": "ipython3",
   "version": "3.13.5"
  }
 },
 "nbformat": 4,
 "nbformat_minor": 5
}
